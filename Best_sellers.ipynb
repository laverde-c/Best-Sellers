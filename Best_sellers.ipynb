{
 "cells": [
  {
   "cell_type": "code",
   "execution_count": 35,
   "metadata": {},
   "outputs": [],
   "source": [
    "import pandas as pd\n",
    "import matplotlib.pyplot as plt"
   ]
  },
  {
   "cell_type": "code",
   "execution_count": 36,
   "metadata": {},
   "outputs": [],
   "source": [
    "df = pd.read_csv('./bestsellers-with-categories.csv')"
   ]
  },
  {
   "cell_type": "markdown",
   "metadata": {},
   "source": [
    "<h2> Primeros pasos </h2>"
   ]
  },
  {
   "cell_type": "markdown",
   "metadata": {},
   "source": [
    "<p> ¿Como está mi data? </p>"
   ]
  },
  {
   "cell_type": "code",
   "execution_count": 37,
   "metadata": {},
   "outputs": [
    {
     "data": {
      "text/plain": [
       "<bound method DataFrame.info of                                                   Name  \\\n",
       "0                        10-Day Green Smoothie Cleanse   \n",
       "1                                    11/22/63: A Novel   \n",
       "2              12 Rules for Life: An Antidote to Chaos   \n",
       "3                               1984 (Signet Classics)   \n",
       "4    5,000 Awesome Facts (About Everything!) (Natio...   \n",
       "..                                                 ...   \n",
       "545       Wrecking Ball (Diary of a Wimpy Kid Book 14)   \n",
       "546  You Are a Badass: How to Stop Doubting Your Gr...   \n",
       "547  You Are a Badass: How to Stop Doubting Your Gr...   \n",
       "548  You Are a Badass: How to Stop Doubting Your Gr...   \n",
       "549  You Are a Badass: How to Stop Doubting Your Gr...   \n",
       "\n",
       "                       Author  User Rating  Reviews  Price  Year        Genre  \n",
       "0                    JJ Smith          4.7    17350      8  2016  Non Fiction  \n",
       "1                Stephen King          4.6     2052     22  2011      Fiction  \n",
       "2          Jordan B. Peterson          4.7    18979     15  2018  Non Fiction  \n",
       "3               George Orwell          4.7    21424      6  2017      Fiction  \n",
       "4    National Geographic Kids          4.8     7665     12  2019  Non Fiction  \n",
       "..                        ...          ...      ...    ...   ...          ...  \n",
       "545               Jeff Kinney          4.9     9413      8  2019      Fiction  \n",
       "546               Jen Sincero          4.7    14331      8  2016  Non Fiction  \n",
       "547               Jen Sincero          4.7    14331      8  2017  Non Fiction  \n",
       "548               Jen Sincero          4.7    14331      8  2018  Non Fiction  \n",
       "549               Jen Sincero          4.7    14331      8  2019  Non Fiction  \n",
       "\n",
       "[550 rows x 7 columns]>"
      ]
     },
     "execution_count": 37,
     "metadata": {},
     "output_type": "execute_result"
    }
   ],
   "source": [
    "df.info"
   ]
  },
  {
   "cell_type": "code",
   "execution_count": 38,
   "metadata": {},
   "outputs": [
    {
     "data": {
      "text/plain": [
       "<bound method NDFrame.describe of                                                   Name  \\\n",
       "0                        10-Day Green Smoothie Cleanse   \n",
       "1                                    11/22/63: A Novel   \n",
       "2              12 Rules for Life: An Antidote to Chaos   \n",
       "3                               1984 (Signet Classics)   \n",
       "4    5,000 Awesome Facts (About Everything!) (Natio...   \n",
       "..                                                 ...   \n",
       "545       Wrecking Ball (Diary of a Wimpy Kid Book 14)   \n",
       "546  You Are a Badass: How to Stop Doubting Your Gr...   \n",
       "547  You Are a Badass: How to Stop Doubting Your Gr...   \n",
       "548  You Are a Badass: How to Stop Doubting Your Gr...   \n",
       "549  You Are a Badass: How to Stop Doubting Your Gr...   \n",
       "\n",
       "                       Author  User Rating  Reviews  Price  Year        Genre  \n",
       "0                    JJ Smith          4.7    17350      8  2016  Non Fiction  \n",
       "1                Stephen King          4.6     2052     22  2011      Fiction  \n",
       "2          Jordan B. Peterson          4.7    18979     15  2018  Non Fiction  \n",
       "3               George Orwell          4.7    21424      6  2017      Fiction  \n",
       "4    National Geographic Kids          4.8     7665     12  2019  Non Fiction  \n",
       "..                        ...          ...      ...    ...   ...          ...  \n",
       "545               Jeff Kinney          4.9     9413      8  2019      Fiction  \n",
       "546               Jen Sincero          4.7    14331      8  2016  Non Fiction  \n",
       "547               Jen Sincero          4.7    14331      8  2017  Non Fiction  \n",
       "548               Jen Sincero          4.7    14331      8  2018  Non Fiction  \n",
       "549               Jen Sincero          4.7    14331      8  2019  Non Fiction  \n",
       "\n",
       "[550 rows x 7 columns]>"
      ]
     },
     "execution_count": 38,
     "metadata": {},
     "output_type": "execute_result"
    }
   ],
   "source": [
    "df.describe"
   ]
  },
  {
   "cell_type": "code",
   "execution_count": null,
   "metadata": {},
   "outputs": [],
   "source": []
  },
  {
   "cell_type": "markdown",
   "metadata": {},
   "source": [
    "<p> ¿Cual es el Autor que más 'BS' ha publicado? </p>"
   ]
  },
  {
   "cell_type": "code",
   "execution_count": 39,
   "metadata": {},
   "outputs": [
    {
     "data": {
      "text/plain": [
       "Author\n",
       "Jeff Kinney                           12\n",
       "Gary Chapman                          11\n",
       "Suzanne Collins                       11\n",
       "Rick Riordan                          11\n",
       "American Psychological Association    10\n",
       "Gallup                                 9\n",
       "Dr. Seuss                              9\n",
       "Rob Elliott                            8\n",
       "Eric Carle                             7\n",
       "Bill O'Reilly                          7\n",
       "Name: Author, dtype: int64"
      ]
     },
     "execution_count": 39,
     "metadata": {},
     "output_type": "execute_result"
    }
   ],
   "source": [
    "autor = df.groupby('Author')['Author'].count()\n",
    "autor.sort_values(ascending=False).head(10) \n",
    "#para no hacer muy larga la lista solo selecciono los primeros 10"
   ]
  },
  {
   "cell_type": "markdown",
   "metadata": {},
   "source": [
    "<p>Ahora sabemos que el autor que más ha publicado es Jeff Kinney, pero,¿Qué es lo que publica él? </p>"
   ]
  },
  {
   "cell_type": "code",
   "execution_count": 40,
   "metadata": {},
   "outputs": [
    {
     "data": {
      "text/html": [
       "<div>\n",
       "<style scoped>\n",
       "    .dataframe tbody tr th:only-of-type {\n",
       "        vertical-align: middle;\n",
       "    }\n",
       "\n",
       "    .dataframe tbody tr th {\n",
       "        vertical-align: top;\n",
       "    }\n",
       "\n",
       "    .dataframe thead th {\n",
       "        text-align: right;\n",
       "    }\n",
       "</style>\n",
       "<table border=\"1\" class=\"dataframe\">\n",
       "  <thead>\n",
       "    <tr style=\"text-align: right;\">\n",
       "      <th></th>\n",
       "      <th>Name</th>\n",
       "      <th>Author</th>\n",
       "      <th>User Rating</th>\n",
       "      <th>Reviews</th>\n",
       "      <th>Price</th>\n",
       "      <th>Year</th>\n",
       "      <th>Genre</th>\n",
       "    </tr>\n",
       "  </thead>\n",
       "  <tbody>\n",
       "    <tr>\n",
       "      <th>72</th>\n",
       "      <td>Diary of a Wimpy Kid: The Last Straw (Book 3)</td>\n",
       "      <td>Jeff Kinney</td>\n",
       "      <td>4.8</td>\n",
       "      <td>3837</td>\n",
       "      <td>15</td>\n",
       "      <td>2009</td>\n",
       "      <td>Fiction</td>\n",
       "    </tr>\n",
       "    <tr>\n",
       "      <th>80</th>\n",
       "      <td>Dog Days (Diary of a Wimpy Kid, Book 4) (Volum...</td>\n",
       "      <td>Jeff Kinney</td>\n",
       "      <td>4.8</td>\n",
       "      <td>3181</td>\n",
       "      <td>12</td>\n",
       "      <td>2009</td>\n",
       "      <td>Fiction</td>\n",
       "    </tr>\n",
       "    <tr>\n",
       "      <th>474</th>\n",
       "      <td>The Ugly Truth (Diary of a Wimpy Kid, Book 5)</td>\n",
       "      <td>Jeff Kinney</td>\n",
       "      <td>4.8</td>\n",
       "      <td>3796</td>\n",
       "      <td>12</td>\n",
       "      <td>2010</td>\n",
       "      <td>Fiction</td>\n",
       "    </tr>\n",
       "    <tr>\n",
       "      <th>42</th>\n",
       "      <td>Cabin Fever (Diary of a Wimpy Kid, Book 6)</td>\n",
       "      <td>Jeff Kinney</td>\n",
       "      <td>4.8</td>\n",
       "      <td>4505</td>\n",
       "      <td>0</td>\n",
       "      <td>2011</td>\n",
       "      <td>Fiction</td>\n",
       "    </tr>\n",
       "    <tr>\n",
       "      <th>468</th>\n",
       "      <td>The Third Wheel (Diary of a Wimpy Kid, Book 7)</td>\n",
       "      <td>Jeff Kinney</td>\n",
       "      <td>4.7</td>\n",
       "      <td>6377</td>\n",
       "      <td>7</td>\n",
       "      <td>2012</td>\n",
       "      <td>Fiction</td>\n",
       "    </tr>\n",
       "    <tr>\n",
       "      <th>71</th>\n",
       "      <td>Diary of a Wimpy Kid: Hard Luck, Book 8</td>\n",
       "      <td>Jeff Kinney</td>\n",
       "      <td>4.8</td>\n",
       "      <td>6812</td>\n",
       "      <td>0</td>\n",
       "      <td>2013</td>\n",
       "      <td>Fiction</td>\n",
       "    </tr>\n",
       "    <tr>\n",
       "      <th>73</th>\n",
       "      <td>Diary of a Wimpy Kid: The Long Haul</td>\n",
       "      <td>Jeff Kinney</td>\n",
       "      <td>4.8</td>\n",
       "      <td>6540</td>\n",
       "      <td>22</td>\n",
       "      <td>2014</td>\n",
       "      <td>Fiction</td>\n",
       "    </tr>\n",
       "    <tr>\n",
       "      <th>253</th>\n",
       "      <td>Old School (Diary of a Wimpy Kid #10)</td>\n",
       "      <td>Jeff Kinney</td>\n",
       "      <td>4.8</td>\n",
       "      <td>6169</td>\n",
       "      <td>7</td>\n",
       "      <td>2015</td>\n",
       "      <td>Fiction</td>\n",
       "    </tr>\n",
       "    <tr>\n",
       "      <th>88</th>\n",
       "      <td>Double Down (Diary of a Wimpy Kid #11)</td>\n",
       "      <td>Jeff Kinney</td>\n",
       "      <td>4.8</td>\n",
       "      <td>5118</td>\n",
       "      <td>20</td>\n",
       "      <td>2016</td>\n",
       "      <td>Fiction</td>\n",
       "    </tr>\n",
       "    <tr>\n",
       "      <th>381</th>\n",
       "      <td>The Getaway</td>\n",
       "      <td>Jeff Kinney</td>\n",
       "      <td>4.8</td>\n",
       "      <td>5836</td>\n",
       "      <td>0</td>\n",
       "      <td>2017</td>\n",
       "      <td>Fiction</td>\n",
       "    </tr>\n",
       "    <tr>\n",
       "      <th>435</th>\n",
       "      <td>The Meltdown (Diary of a Wimpy Kid Book 13)</td>\n",
       "      <td>Jeff Kinney</td>\n",
       "      <td>4.8</td>\n",
       "      <td>5898</td>\n",
       "      <td>8</td>\n",
       "      <td>2018</td>\n",
       "      <td>Fiction</td>\n",
       "    </tr>\n",
       "    <tr>\n",
       "      <th>545</th>\n",
       "      <td>Wrecking Ball (Diary of a Wimpy Kid Book 14)</td>\n",
       "      <td>Jeff Kinney</td>\n",
       "      <td>4.9</td>\n",
       "      <td>9413</td>\n",
       "      <td>8</td>\n",
       "      <td>2019</td>\n",
       "      <td>Fiction</td>\n",
       "    </tr>\n",
       "  </tbody>\n",
       "</table>\n",
       "</div>"
      ],
      "text/plain": [
       "                                                  Name       Author  \\\n",
       "72       Diary of a Wimpy Kid: The Last Straw (Book 3)  Jeff Kinney   \n",
       "80   Dog Days (Diary of a Wimpy Kid, Book 4) (Volum...  Jeff Kinney   \n",
       "474      The Ugly Truth (Diary of a Wimpy Kid, Book 5)  Jeff Kinney   \n",
       "42          Cabin Fever (Diary of a Wimpy Kid, Book 6)  Jeff Kinney   \n",
       "468     The Third Wheel (Diary of a Wimpy Kid, Book 7)  Jeff Kinney   \n",
       "71             Diary of a Wimpy Kid: Hard Luck, Book 8  Jeff Kinney   \n",
       "73                 Diary of a Wimpy Kid: The Long Haul  Jeff Kinney   \n",
       "253              Old School (Diary of a Wimpy Kid #10)  Jeff Kinney   \n",
       "88              Double Down (Diary of a Wimpy Kid #11)  Jeff Kinney   \n",
       "381                                        The Getaway  Jeff Kinney   \n",
       "435        The Meltdown (Diary of a Wimpy Kid Book 13)  Jeff Kinney   \n",
       "545       Wrecking Ball (Diary of a Wimpy Kid Book 14)  Jeff Kinney   \n",
       "\n",
       "     User Rating  Reviews  Price  Year    Genre  \n",
       "72           4.8     3837     15  2009  Fiction  \n",
       "80           4.8     3181     12  2009  Fiction  \n",
       "474          4.8     3796     12  2010  Fiction  \n",
       "42           4.8     4505      0  2011  Fiction  \n",
       "468          4.7     6377      7  2012  Fiction  \n",
       "71           4.8     6812      0  2013  Fiction  \n",
       "73           4.8     6540     22  2014  Fiction  \n",
       "253          4.8     6169      7  2015  Fiction  \n",
       "88           4.8     5118     20  2016  Fiction  \n",
       "381          4.8     5836      0  2017  Fiction  \n",
       "435          4.8     5898      8  2018  Fiction  \n",
       "545          4.9     9413      8  2019  Fiction  "
      ]
     },
     "execution_count": 40,
     "metadata": {},
     "output_type": "execute_result"
    }
   ],
   "source": [
    "jeff = df.loc[df['Author'] == 'Jeff Kinney'].sort_values(ascending=True, by='Year')\n",
    "jeff"
   ]
  },
  {
   "cell_type": "markdown",
   "metadata": {},
   "source": [
    "<p> Lo primero que notamos es que escribe libros de ficción, y además, que es toda una saga, que cada año vende un Best Seller de manera ininterrumpida </p>\n",
    "<p> También vemos que la cantidad de **Reviews** tiene una tendencia positiva y su **User Rating** se mantiene </p>"
   ]
  },
  {
   "cell_type": "code",
   "execution_count": 41,
   "metadata": {},
   "outputs": [
    {
     "data": {
      "text/plain": [
       "<Axes: xlabel='Year'>"
      ]
     },
     "execution_count": 41,
     "metadata": {},
     "output_type": "execute_result"
    },
    {
     "data": {
      "image/png": "[encoded data removed]",
      "text/plain": [
       "<Figure size 640x480 with 1 Axes>"
      ]
     },
     "metadata": {},
     "output_type": "display_data"
    }
   ],
   "source": [
    "jeff.plot(kind='bar', x='Year', y='Reviews') #el historico de reviews de Jeff por año"
   ]
  },
  {
   "cell_type": "markdown",
   "metadata": {},
   "source": [
    "<h3> Primeras preguntas </h3>"
   ]
  },
  {
   "cell_type": "markdown",
   "metadata": {},
   "source": [
    "<p> ¿Acaso los autores de ficción venden más que los de no ficción?.\n",
    "Primero veamos la cantidad de libros de cada genero </p>"
   ]
  },
  {
   "cell_type": "code",
   "execution_count": 42,
   "metadata": {},
   "outputs": [
    {
     "data": {
      "text/plain": [
       "Genre\n",
       "Fiction        240\n",
       "Non Fiction    310\n",
       "Name: Genre, dtype: int64"
      ]
     },
     "execution_count": 42,
     "metadata": {},
     "output_type": "execute_result"
    }
   ],
   "source": [
    "gnero = df.groupby('Genre')['Genre'].count()\n",
    "gnero"
   ]
  },
  {
   "cell_type": "code",
   "execution_count": 43,
   "metadata": {},
   "outputs": [
    {
     "data": {
      "text/plain": [
       "<Axes: ylabel='Genre'>"
      ]
     },
     "execution_count": 43,
     "metadata": {},
     "output_type": "execute_result"
    },
    {
     "data": {
      "image/png": "[encoded data removed]",
      "text/plain": [
       "<Figure size 640x480 with 1 Axes>"
      ]
     },
     "metadata": {},
     "output_type": "display_data"
    }
   ],
   "source": [
    "gnero.plot(kind='pie', x='Genre', y='gnero')"
   ]
  },
  {
   "cell_type": "markdown",
   "metadata": {},
   "source": [
    "<p>Bueno, pues realmente no, la ficción no supera a la realidad. De manera general, no se vendieron más libros de ficción, como en un princpio creí\n",
    "\n",
    "Sin embargo, me gustaría saber cuantos libros de cada genero se vendieron por año</p>"
   ]
  },
  {
   "cell_type": "code",
   "execution_count": 44,
   "metadata": {},
   "outputs": [
    {
     "data": {
      "text/html": [
       "<div>\n",
       "<style scoped>\n",
       "    .dataframe tbody tr th:only-of-type {\n",
       "        vertical-align: middle;\n",
       "    }\n",
       "\n",
       "    .dataframe tbody tr th {\n",
       "        vertical-align: top;\n",
       "    }\n",
       "\n",
       "    .dataframe thead th {\n",
       "        text-align: right;\n",
       "    }\n",
       "</style>\n",
       "<table border=\"1\" class=\"dataframe\">\n",
       "  <thead>\n",
       "    <tr style=\"text-align: right;\">\n",
       "      <th>Genre</th>\n",
       "      <th>Fiction</th>\n",
       "      <th>Non Fiction</th>\n",
       "    </tr>\n",
       "    <tr>\n",
       "      <th>Year</th>\n",
       "      <th></th>\n",
       "      <th></th>\n",
       "    </tr>\n",
       "  </thead>\n",
       "  <tbody>\n",
       "    <tr>\n",
       "      <th>2009</th>\n",
       "      <td>24</td>\n",
       "      <td>26</td>\n",
       "    </tr>\n",
       "    <tr>\n",
       "      <th>2010</th>\n",
       "      <td>20</td>\n",
       "      <td>30</td>\n",
       "    </tr>\n",
       "    <tr>\n",
       "      <th>2011</th>\n",
       "      <td>21</td>\n",
       "      <td>29</td>\n",
       "    </tr>\n",
       "    <tr>\n",
       "      <th>2012</th>\n",
       "      <td>21</td>\n",
       "      <td>29</td>\n",
       "    </tr>\n",
       "    <tr>\n",
       "      <th>2013</th>\n",
       "      <td>24</td>\n",
       "      <td>26</td>\n",
       "    </tr>\n",
       "    <tr>\n",
       "      <th>2014</th>\n",
       "      <td>29</td>\n",
       "      <td>21</td>\n",
       "    </tr>\n",
       "    <tr>\n",
       "      <th>2015</th>\n",
       "      <td>17</td>\n",
       "      <td>33</td>\n",
       "    </tr>\n",
       "    <tr>\n",
       "      <th>2016</th>\n",
       "      <td>19</td>\n",
       "      <td>31</td>\n",
       "    </tr>\n",
       "    <tr>\n",
       "      <th>2017</th>\n",
       "      <td>24</td>\n",
       "      <td>26</td>\n",
       "    </tr>\n",
       "    <tr>\n",
       "      <th>2018</th>\n",
       "      <td>21</td>\n",
       "      <td>29</td>\n",
       "    </tr>\n",
       "    <tr>\n",
       "      <th>2019</th>\n",
       "      <td>20</td>\n",
       "      <td>30</td>\n",
       "    </tr>\n",
       "  </tbody>\n",
       "</table>\n",
       "</div>"
      ],
      "text/plain": [
       "Genre  Fiction  Non Fiction\n",
       "Year                       \n",
       "2009        24           26\n",
       "2010        20           30\n",
       "2011        21           29\n",
       "2012        21           29\n",
       "2013        24           26\n",
       "2014        29           21\n",
       "2015        17           33\n",
       "2016        19           31\n",
       "2017        24           26\n",
       "2018        21           29\n",
       "2019        20           30"
      ]
     },
     "execution_count": 44,
     "metadata": {},
     "output_type": "execute_result"
    }
   ],
   "source": [
    "gnere_year = df.pivot_table(index='Year', columns='Genre', values='Name',aggfunc='count')\n",
    "gnere_year"
   ]
  },
  {
   "cell_type": "code",
   "execution_count": 45,
   "metadata": {},
   "outputs": [
    {
     "data": {
      "text/plain": [
       "<Axes: xlabel='Year'>"
      ]
     },
     "execution_count": 45,
     "metadata": {},
     "output_type": "execute_result"
    },
    {
     "data": {
      "image/png": "[encoded data removed]",
      "text/plain": [
       "<Figure size 640x480 with 1 Axes>"
      ]
     },
     "metadata": {},
     "output_type": "display_data"
    }
   ],
   "source": [
    "gnere_year.plot(kind='bar')"
   ]
  },
  {
   "cell_type": "markdown",
   "metadata": {},
   "source": [
    "Es evidente que, en comparación, hay preferencia por los libros que no son del genero ficción. "
   ]
  },
  {
   "cell_type": "markdown",
   "metadata": {},
   "source": [
    "<p> ¿Pero, cual es el genero que escriben los 10 autores más vendidos? </p>"
   ]
  },
  {
   "cell_type": "markdown",
   "metadata": {},
   "source": [
    "<p> Necesito una lista de los 10 autores más  vendidos, anteriormente ya la habia obtenido, pero como PandaSeries, lo que no me sirve para el filtrado, entonces el primer paso es obtener una lista a partir de allí. Desglosemos para entenderlo mejor </p>"
   ]
  },
  {
   "cell_type": "code",
   "execution_count": 46,
   "metadata": {},
   "outputs": [
    {
     "data": {
      "text/plain": [
       "['Jeff Kinney',\n",
       " 'Gary Chapman',\n",
       " 'Suzanne Collins',\n",
       " 'Rick Riordan',\n",
       " 'American Psychological Association',\n",
       " 'Gallup',\n",
       " 'Dr. Seuss',\n",
       " 'Rob Elliott',\n",
       " 'Eric Carle',\n",
       " \"Bill O'Reilly\"]"
      ]
     },
     "execution_count": 46,
     "metadata": {},
     "output_type": "execute_result"
    }
   ],
   "source": [
    "b = autor.sort_values(ascending=False).head(10)#autor corresponde al conteo agrupado por 'Author' del df\n",
    "b1 = b.index                                   #saco los indices\n",
    "b10 = list(b1)                                 #esos indices los paso a una lista\n",
    "b10"
   ]
  },
  {
   "cell_type": "markdown",
   "metadata": {},
   "source": [
    "<p>Ahora, filtramos el df de acuerdo a mi lista de b10 </p>"
   ]
  },
  {
   "cell_type": "code",
   "execution_count": 47,
   "metadata": {},
   "outputs": [
    {
     "data": {
      "text/html": [
       "<div>\n",
       "<style scoped>\n",
       "    .dataframe tbody tr th:only-of-type {\n",
       "        vertical-align: middle;\n",
       "    }\n",
       "\n",
       "    .dataframe tbody tr th {\n",
       "        vertical-align: top;\n",
       "    }\n",
       "\n",
       "    .dataframe thead th {\n",
       "        text-align: right;\n",
       "    }\n",
       "</style>\n",
       "<table border=\"1\" class=\"dataframe\">\n",
       "  <thead>\n",
       "    <tr style=\"text-align: right;\">\n",
       "      <th></th>\n",
       "      <th>Name</th>\n",
       "      <th>Author</th>\n",
       "      <th>User Rating</th>\n",
       "      <th>Reviews</th>\n",
       "      <th>Price</th>\n",
       "      <th>Year</th>\n",
       "      <th>Genre</th>\n",
       "    </tr>\n",
       "  </thead>\n",
       "  <tbody>\n",
       "    <tr>\n",
       "      <th>42</th>\n",
       "      <td>Cabin Fever (Diary of a Wimpy Kid, Book 6)</td>\n",
       "      <td>Jeff Kinney</td>\n",
       "      <td>4.8</td>\n",
       "      <td>4505</td>\n",
       "      <td>0</td>\n",
       "      <td>2011</td>\n",
       "      <td>Fiction</td>\n",
       "    </tr>\n",
       "    <tr>\n",
       "      <th>46</th>\n",
       "      <td>Catching Fire (The Hunger Games)</td>\n",
       "      <td>Suzanne Collins</td>\n",
       "      <td>4.7</td>\n",
       "      <td>22614</td>\n",
       "      <td>11</td>\n",
       "      <td>2010</td>\n",
       "      <td>Fiction</td>\n",
       "    </tr>\n",
       "    <tr>\n",
       "      <th>47</th>\n",
       "      <td>Catching Fire (The Hunger Games)</td>\n",
       "      <td>Suzanne Collins</td>\n",
       "      <td>4.7</td>\n",
       "      <td>22614</td>\n",
       "      <td>11</td>\n",
       "      <td>2011</td>\n",
       "      <td>Fiction</td>\n",
       "    </tr>\n",
       "    <tr>\n",
       "      <th>48</th>\n",
       "      <td>Catching Fire (The Hunger Games)</td>\n",
       "      <td>Suzanne Collins</td>\n",
       "      <td>4.7</td>\n",
       "      <td>22614</td>\n",
       "      <td>11</td>\n",
       "      <td>2012</td>\n",
       "      <td>Fiction</td>\n",
       "    </tr>\n",
       "    <tr>\n",
       "      <th>71</th>\n",
       "      <td>Diary of a Wimpy Kid: Hard Luck, Book 8</td>\n",
       "      <td>Jeff Kinney</td>\n",
       "      <td>4.8</td>\n",
       "      <td>6812</td>\n",
       "      <td>0</td>\n",
       "      <td>2013</td>\n",
       "      <td>Fiction</td>\n",
       "    </tr>\n",
       "    <tr>\n",
       "      <th>...</th>\n",
       "      <td>...</td>\n",
       "      <td>...</td>\n",
       "      <td>...</td>\n",
       "      <td>...</td>\n",
       "      <td>...</td>\n",
       "      <td>...</td>\n",
       "      <td>...</td>\n",
       "    </tr>\n",
       "    <tr>\n",
       "      <th>480</th>\n",
       "      <td>The Very Hungry Caterpillar</td>\n",
       "      <td>Eric Carle</td>\n",
       "      <td>4.9</td>\n",
       "      <td>19546</td>\n",
       "      <td>5</td>\n",
       "      <td>2017</td>\n",
       "      <td>Fiction</td>\n",
       "    </tr>\n",
       "    <tr>\n",
       "      <th>481</th>\n",
       "      <td>The Very Hungry Caterpillar</td>\n",
       "      <td>Eric Carle</td>\n",
       "      <td>4.9</td>\n",
       "      <td>19546</td>\n",
       "      <td>5</td>\n",
       "      <td>2018</td>\n",
       "      <td>Fiction</td>\n",
       "    </tr>\n",
       "    <tr>\n",
       "      <th>482</th>\n",
       "      <td>The Very Hungry Caterpillar</td>\n",
       "      <td>Eric Carle</td>\n",
       "      <td>4.9</td>\n",
       "      <td>19546</td>\n",
       "      <td>5</td>\n",
       "      <td>2019</td>\n",
       "      <td>Fiction</td>\n",
       "    </tr>\n",
       "    <tr>\n",
       "      <th>528</th>\n",
       "      <td>What Pet Should I Get? (Classic Seuss)</td>\n",
       "      <td>Dr. Seuss</td>\n",
       "      <td>4.7</td>\n",
       "      <td>1873</td>\n",
       "      <td>14</td>\n",
       "      <td>2015</td>\n",
       "      <td>Fiction</td>\n",
       "    </tr>\n",
       "    <tr>\n",
       "      <th>545</th>\n",
       "      <td>Wrecking Ball (Diary of a Wimpy Kid Book 14)</td>\n",
       "      <td>Jeff Kinney</td>\n",
       "      <td>4.9</td>\n",
       "      <td>9413</td>\n",
       "      <td>8</td>\n",
       "      <td>2019</td>\n",
       "      <td>Fiction</td>\n",
       "    </tr>\n",
       "  </tbody>\n",
       "</table>\n",
       "<p>95 rows × 7 columns</p>\n",
       "</div>"
      ],
      "text/plain": [
       "                                             Name           Author  \\\n",
       "42     Cabin Fever (Diary of a Wimpy Kid, Book 6)      Jeff Kinney   \n",
       "46               Catching Fire (The Hunger Games)  Suzanne Collins   \n",
       "47               Catching Fire (The Hunger Games)  Suzanne Collins   \n",
       "48               Catching Fire (The Hunger Games)  Suzanne Collins   \n",
       "71        Diary of a Wimpy Kid: Hard Luck, Book 8      Jeff Kinney   \n",
       "..                                            ...              ...   \n",
       "480                   The Very Hungry Caterpillar       Eric Carle   \n",
       "481                   The Very Hungry Caterpillar       Eric Carle   \n",
       "482                   The Very Hungry Caterpillar       Eric Carle   \n",
       "528        What Pet Should I Get? (Classic Seuss)        Dr. Seuss   \n",
       "545  Wrecking Ball (Diary of a Wimpy Kid Book 14)      Jeff Kinney   \n",
       "\n",
       "     User Rating  Reviews  Price  Year    Genre  \n",
       "42           4.8     4505      0  2011  Fiction  \n",
       "46           4.7    22614     11  2010  Fiction  \n",
       "47           4.7    22614     11  2011  Fiction  \n",
       "48           4.7    22614     11  2012  Fiction  \n",
       "71           4.8     6812      0  2013  Fiction  \n",
       "..           ...      ...    ...   ...      ...  \n",
       "480          4.9    19546      5  2017  Fiction  \n",
       "481          4.9    19546      5  2018  Fiction  \n",
       "482          4.9    19546      5  2019  Fiction  \n",
       "528          4.7     1873     14  2015  Fiction  \n",
       "545          4.9     9413      8  2019  Fiction  \n",
       "\n",
       "[95 rows x 7 columns]"
      ]
     },
     "execution_count": 47,
     "metadata": {},
     "output_type": "execute_result"
    }
   ],
   "source": [
    "df_b10 = df[df['Author'].isin(b10) ]\n",
    "df_b10"
   ]
  },
  {
   "cell_type": "markdown",
   "metadata": {},
   "source": [
    "<p> El DF obtenido anteriormente contiene unicamente los los libros publicados por los 10 autores más vendidos, a partir de ella pienso obtener el genero que escribe cada uno y la cantidad de libros de cada genero </p>"
   ]
  },
  {
   "cell_type": "code",
   "execution_count": 48,
   "metadata": {},
   "outputs": [
    {
     "data": {
      "text/html": [
       "<div>\n",
       "<style scoped>\n",
       "    .dataframe tbody tr th:only-of-type {\n",
       "        vertical-align: middle;\n",
       "    }\n",
       "\n",
       "    .dataframe tbody tr th {\n",
       "        vertical-align: top;\n",
       "    }\n",
       "\n",
       "    .dataframe thead th {\n",
       "        text-align: right;\n",
       "    }\n",
       "</style>\n",
       "<table border=\"1\" class=\"dataframe\">\n",
       "  <thead>\n",
       "    <tr style=\"text-align: right;\">\n",
       "      <th></th>\n",
       "      <th>Author</th>\n",
       "      <th>Genre</th>\n",
       "    </tr>\n",
       "  </thead>\n",
       "  <tbody>\n",
       "    <tr>\n",
       "      <th>42</th>\n",
       "      <td>Jeff Kinney</td>\n",
       "      <td>Fiction</td>\n",
       "    </tr>\n",
       "    <tr>\n",
       "      <th>46</th>\n",
       "      <td>Suzanne Collins</td>\n",
       "      <td>Fiction</td>\n",
       "    </tr>\n",
       "    <tr>\n",
       "      <th>196</th>\n",
       "      <td>Bill O'Reilly</td>\n",
       "      <td>Non Fiction</td>\n",
       "    </tr>\n",
       "    <tr>\n",
       "      <th>204</th>\n",
       "      <td>Rob Elliott</td>\n",
       "      <td>Non Fiction</td>\n",
       "    </tr>\n",
       "    <tr>\n",
       "      <th>245</th>\n",
       "      <td>Dr. Seuss</td>\n",
       "      <td>Fiction</td>\n",
       "    </tr>\n",
       "    <tr>\n",
       "      <th>264</th>\n",
       "      <td>Rick Riordan</td>\n",
       "      <td>Fiction</td>\n",
       "    </tr>\n",
       "    <tr>\n",
       "      <th>271</th>\n",
       "      <td>American Psychological Association</td>\n",
       "      <td>Non Fiction</td>\n",
       "    </tr>\n",
       "    <tr>\n",
       "      <th>304</th>\n",
       "      <td>Gallup</td>\n",
       "      <td>Non Fiction</td>\n",
       "    </tr>\n",
       "    <tr>\n",
       "      <th>320</th>\n",
       "      <td>Gary Chapman</td>\n",
       "      <td>Non Fiction</td>\n",
       "    </tr>\n",
       "    <tr>\n",
       "      <th>476</th>\n",
       "      <td>Eric Carle</td>\n",
       "      <td>Fiction</td>\n",
       "    </tr>\n",
       "  </tbody>\n",
       "</table>\n",
       "</div>"
      ],
      "text/plain": [
       "                                 Author        Genre\n",
       "42                          Jeff Kinney      Fiction\n",
       "46                      Suzanne Collins      Fiction\n",
       "196                       Bill O'Reilly  Non Fiction\n",
       "204                         Rob Elliott  Non Fiction\n",
       "245                           Dr. Seuss      Fiction\n",
       "264                        Rick Riordan      Fiction\n",
       "271  American Psychological Association  Non Fiction\n",
       "304                              Gallup  Non Fiction\n",
       "320                        Gary Chapman  Non Fiction\n",
       "476                          Eric Carle      Fiction"
      ]
     },
     "execution_count": 48,
     "metadata": {},
     "output_type": "execute_result"
    }
   ],
   "source": [
    "df_b10[['Author', 'Genre']].drop_duplicates(subset=['Author'])"
   ]
  },
  {
   "cell_type": "markdown",
   "metadata": {},
   "source": [
    "<p> Interesante, hay una distribución equitativa entre los autores que escriben ficción y los que no </p>"
   ]
  },
  {
   "cell_type": "markdown",
   "metadata": {},
   "source": [
    "<p> Ahora, con este DataFrame, es muy sencillo hacer el conteo de cuantos de los libros publicados por los 10 autores mas vendidos son ficción y cuantos no </p>"
   ]
  },
  {
   "cell_type": "code",
   "execution_count": 49,
   "metadata": {},
   "outputs": [
    {
     "data": {
      "text/plain": [
       "Genre\n",
       "Fiction        50\n",
       "Non Fiction    45\n",
       "Name: Genre, dtype: int64"
      ]
     },
     "execution_count": 49,
     "metadata": {},
     "output_type": "execute_result"
    }
   ],
   "source": [
    "gnero_b10 = df_b10.groupby('Genre')['Genre'].count()\n",
    "gnero_b10"
   ]
  },
  {
   "cell_type": "code",
   "execution_count": 50,
   "metadata": {},
   "outputs": [
    {
     "data": {
      "text/plain": [
       "<Axes: ylabel='Genre'>"
      ]
     },
     "execution_count": 50,
     "metadata": {},
     "output_type": "execute_result"
    },
    {
     "data": {
      "image/png": "[encoded data removed]",
      "text/plain": [
       "<Figure size 640x480 with 1 Axes>"
      ]
     },
     "metadata": {},
     "output_type": "display_data"
    }
   ],
   "source": [
    "gnero_b10.plot(kind='pie', x='Genre', y='gnero')"
   ]
  },
  {
   "cell_type": "markdown",
   "metadata": {},
   "source": [
    "<p>Vemos nuevamente una distribución de los datos másomenos equitativa, sin embargo la diferencia no es mucha, solo 5 libros más. </p>"
   ]
  },
  {
   "cell_type": "markdown",
   "metadata": {},
   "source": [
    "<h3> ¿Que hay de los precios ? </h3>"
   ]
  },
  {
   "cell_type": "markdown",
   "metadata": {},
   "source": [
    "<p> Ahora, ¿como es la distribución general de los precios de los libros? Estoy tomandolo en general, no solo los best seller, eso va luego</p>"
   ]
  },
  {
   "cell_type": "code",
   "execution_count": 51,
   "metadata": {},
   "outputs": [
    {
     "data": {
      "text/plain": [
       "<Axes: xlabel='Price'>"
      ]
     },
     "execution_count": 51,
     "metadata": {},
     "output_type": "execute_result"
    },
    {
     "data": {
      "image/png": "[encoded data removed]",
      "text/plain": [
       "<Figure size 640x480 with 1 Axes>"
      ]
     },
     "metadata": {},
     "output_type": "display_data"
    }
   ],
   "source": [
    "#precio general \n",
    "price = df.groupby('Price')['Price'].count()\n",
    "price.plot(kind='bar', x='' , y='')"
   ]
  },
  {
   "cell_type": "markdown",
   "metadata": {},
   "source": [
    "<p> Vemos una distribución asimetrica positiva, identificando algunos valores atipicos </p>"
   ]
  },
  {
   "cell_type": "markdown",
   "metadata": {},
   "source": [
    "<p>Ahora, veamos cual es la distribución de los precios de los 10 autores más vendidos </p>"
   ]
  },
  {
   "cell_type": "code",
   "execution_count": 52,
   "metadata": {},
   "outputs": [
    {
     "data": {
      "text/plain": [
       "<Axes: xlabel='Price'>"
      ]
     },
     "execution_count": 52,
     "metadata": {},
     "output_type": "execute_result"
    },
    {
     "data": {
      "image/png": "[encoded data removed]",
      "text/plain": [
       "<Figure size 640x480 with 1 Axes>"
      ]
     },
     "metadata": {},
     "output_type": "display_data"
    }
   ],
   "source": [
    "price_b10 = df_b10.groupby('Price')['Price'].count()\n",
    "price_b10.plot(kind='bar', x='Price', y='price')"
   ]
  },
  {
   "cell_type": "markdown",
   "metadata": {},
   "source": [
    "<p> En ambas graficas los libros de 8 dolares estuvieron muy por encima del resto. Curiosamente hay 10 Best Sellers que a pesar de costar 46 dolares se posicionaron muy bien.\n",
    "\n",
    "Sin embargo, es claro que de manera general hay preferencia por los libros de menos de 20 dolares. \n",
    "\n",
    "Pero también sería interesante ver la distribución de precios por genero. Para este caso estimaré el promedio de los precios por año.\n",
    "</p>"
   ]
  },
  {
   "cell_type": "code",
   "execution_count": 53,
   "metadata": {},
   "outputs": [
    {
     "data": {
      "text/html": [
       "<div>\n",
       "<style scoped>\n",
       "    .dataframe tbody tr th:only-of-type {\n",
       "        vertical-align: middle;\n",
       "    }\n",
       "\n",
       "    .dataframe tbody tr th {\n",
       "        vertical-align: top;\n",
       "    }\n",
       "\n",
       "    .dataframe thead th {\n",
       "        text-align: right;\n",
       "    }\n",
       "</style>\n",
       "<table border=\"1\" class=\"dataframe\">\n",
       "  <thead>\n",
       "    <tr style=\"text-align: right;\">\n",
       "      <th>Genre</th>\n",
       "      <th>Fiction</th>\n",
       "      <th>Non Fiction</th>\n",
       "    </tr>\n",
       "    <tr>\n",
       "      <th>Year</th>\n",
       "      <th></th>\n",
       "      <th></th>\n",
       "    </tr>\n",
       "  </thead>\n",
       "  <tbody>\n",
       "    <tr>\n",
       "      <th>2009</th>\n",
       "      <td>15.583333</td>\n",
       "      <td>15.230769</td>\n",
       "    </tr>\n",
       "    <tr>\n",
       "      <th>2010</th>\n",
       "      <td>9.700000</td>\n",
       "      <td>16.000000</td>\n",
       "    </tr>\n",
       "    <tr>\n",
       "      <th>2011</th>\n",
       "      <td>11.619048</td>\n",
       "      <td>17.620690</td>\n",
       "    </tr>\n",
       "    <tr>\n",
       "      <th>2012</th>\n",
       "      <td>12.285714</td>\n",
       "      <td>17.482759</td>\n",
       "    </tr>\n",
       "    <tr>\n",
       "      <th>2013</th>\n",
       "      <td>10.708333</td>\n",
       "      <td>18.192308</td>\n",
       "    </tr>\n",
       "    <tr>\n",
       "      <th>2014</th>\n",
       "      <td>10.172414</td>\n",
       "      <td>20.809524</td>\n",
       "    </tr>\n",
       "    <tr>\n",
       "      <th>2015</th>\n",
       "      <td>9.352941</td>\n",
       "      <td>10.969697</td>\n",
       "    </tr>\n",
       "    <tr>\n",
       "      <th>2016</th>\n",
       "      <td>12.631579</td>\n",
       "      <td>13.516129</td>\n",
       "    </tr>\n",
       "    <tr>\n",
       "      <th>2017</th>\n",
       "      <td>8.833333</td>\n",
       "      <td>13.730769</td>\n",
       "    </tr>\n",
       "    <tr>\n",
       "      <th>2018</th>\n",
       "      <td>8.761905</td>\n",
       "      <td>11.793103</td>\n",
       "    </tr>\n",
       "    <tr>\n",
       "      <th>2019</th>\n",
       "      <td>9.350000</td>\n",
       "      <td>10.566667</td>\n",
       "    </tr>\n",
       "  </tbody>\n",
       "</table>\n",
       "</div>"
      ],
      "text/plain": [
       "Genre    Fiction  Non Fiction\n",
       "Year                         \n",
       "2009   15.583333    15.230769\n",
       "2010    9.700000    16.000000\n",
       "2011   11.619048    17.620690\n",
       "2012   12.285714    17.482759\n",
       "2013   10.708333    18.192308\n",
       "2014   10.172414    20.809524\n",
       "2015    9.352941    10.969697\n",
       "2016   12.631579    13.516129\n",
       "2017    8.833333    13.730769\n",
       "2018    8.761905    11.793103\n",
       "2019    9.350000    10.566667"
      ]
     },
     "execution_count": 53,
     "metadata": {},
     "output_type": "execute_result"
    }
   ],
   "source": [
    "gnere_price_year = df.pivot_table(index='Year',columns='Genre', values='Price',aggfunc='mean')\n",
    "gnere_price_year"
   ]
  },
  {
   "cell_type": "code",
   "execution_count": 54,
   "metadata": {},
   "outputs": [
    {
     "data": {
      "text/plain": [
       "<Axes: xlabel='Year'>"
      ]
     },
     "execution_count": 54,
     "metadata": {},
     "output_type": "execute_result"
    },
    {
     "data": {
      "image/png": "[encoded data removed]",
      "text/plain": [
       "<Figure size 640x480 with 1 Axes>"
      ]
     },
     "metadata": {},
     "output_type": "display_data"
    }
   ],
   "source": [
    "gnere_price_year.plot(kind='bar')"
   ]
  },
  {
   "cell_type": "markdown",
   "metadata": {},
   "source": [
    "El promedio del precio de los libros de ficción se ha mantenido por debajo del precio promedio de los que no"
   ]
  },
  {
   "cell_type": "markdown",
   "metadata": {},
   "source": [
    "<h2> Profit </h2>"
   ]
  },
  {
   "cell_type": "markdown",
   "metadata": {},
   "source": [
    "**Hipotesis**, cada review es un lector."
   ]
  },
  {
   "cell_type": "markdown",
   "metadata": {},
   "source": [
    "<p> ¿ Si entendieramos cada review como una venta, y lo multiplicaramos por el precio de cada uno, cuales serían las ganancias por autor? Podriamos discriminar por año </p>"
   ]
  },
  {
   "cell_type": "markdown",
   "metadata": {},
   "source": [
    "<p> Creo que la solución más sencilla es crear una nueva columna con el profit, calculado de la forma anterior </p>"
   ]
  },
  {
   "cell_type": "code",
   "execution_count": 55,
   "metadata": {},
   "outputs": [],
   "source": [
    "#defino la nueva columna, usando apply\n",
    "df['Profit'] = df.apply(lambda x : x['Reviews']*x['Price'], axis=1)"
   ]
  },
  {
   "cell_type": "markdown",
   "metadata": {},
   "source": [
    "<p> Quiero ver, de manera general, las ganancias por autor. Mi logica me diría que los autores más vendidos deberían ser también los que más profit obtuvieron, sin embargo ya vimos que estos no necesariamente tenían los precios altos. Dejemos que la data hable: </p>"
   ]
  },
  {
   "cell_type": "code",
   "execution_count": 56,
   "metadata": {},
   "outputs": [
    {
     "data": {
      "text/html": [
       "<div>\n",
       "<style scoped>\n",
       "    .dataframe tbody tr th:only-of-type {\n",
       "        vertical-align: middle;\n",
       "    }\n",
       "\n",
       "    .dataframe tbody tr th {\n",
       "        vertical-align: top;\n",
       "    }\n",
       "\n",
       "    .dataframe thead th {\n",
       "        text-align: right;\n",
       "    }\n",
       "</style>\n",
       "<table border=\"1\" class=\"dataframe\">\n",
       "  <thead>\n",
       "    <tr style=\"text-align: right;\">\n",
       "      <th></th>\n",
       "      <th>Profit</th>\n",
       "    </tr>\n",
       "    <tr>\n",
       "      <th>Author</th>\n",
       "      <th></th>\n",
       "    </tr>\n",
       "  </thead>\n",
       "  <tbody>\n",
       "    <tr>\n",
       "      <th>American Psychological Association</th>\n",
       "      <td>3946800</td>\n",
       "    </tr>\n",
       "    <tr>\n",
       "      <th>Suzanne Collins</th>\n",
       "      <td>3368646</td>\n",
       "    </tr>\n",
       "    <tr>\n",
       "      <th>E L James</th>\n",
       "      <td>2517303</td>\n",
       "    </tr>\n",
       "    <tr>\n",
       "      <th>John Green</th>\n",
       "      <td>2381609</td>\n",
       "    </tr>\n",
       "    <tr>\n",
       "      <th>Laura Hillenbrand</th>\n",
       "      <td>2284821</td>\n",
       "    </tr>\n",
       "    <tr>\n",
       "      <th>Paula Hawkins</th>\n",
       "      <td>1986150</td>\n",
       "    </tr>\n",
       "    <tr>\n",
       "      <th>Gillian Flynn</th>\n",
       "      <td>1660859</td>\n",
       "    </tr>\n",
       "    <tr>\n",
       "      <th>Gary Chapman</th>\n",
       "      <td>1516167</td>\n",
       "    </tr>\n",
       "    <tr>\n",
       "      <th>Dr. Seuss</th>\n",
       "      <td>1423598</td>\n",
       "    </tr>\n",
       "    <tr>\n",
       "      <th>American Psychiatric Association</th>\n",
       "      <td>1402590</td>\n",
       "    </tr>\n",
       "    <tr>\n",
       "      <th>Paulo Coelho</th>\n",
       "      <td>1396161</td>\n",
       "    </tr>\n",
       "    <tr>\n",
       "      <th>Wizards RPG Team</th>\n",
       "      <td>1376190</td>\n",
       "    </tr>\n",
       "    <tr>\n",
       "      <th>Dale Carnegie</th>\n",
       "      <td>1375055</td>\n",
       "    </tr>\n",
       "    <tr>\n",
       "      <th>J.K. Rowling</th>\n",
       "      <td>1369874</td>\n",
       "    </tr>\n",
       "    <tr>\n",
       "      <th>Donna Tartt</th>\n",
       "      <td>1353760</td>\n",
       "    </tr>\n",
       "    <tr>\n",
       "      <th>Michelle Obama</th>\n",
       "      <td>1344926</td>\n",
       "    </tr>\n",
       "    <tr>\n",
       "      <th>Delia Owens</th>\n",
       "      <td>1317615</td>\n",
       "    </tr>\n",
       "    <tr>\n",
       "      <th>Mark Manson</th>\n",
       "      <td>1192050</td>\n",
       "    </tr>\n",
       "    <tr>\n",
       "      <th>Stephen R. Covey</th>\n",
       "      <td>1122000</td>\n",
       "    </tr>\n",
       "    <tr>\n",
       "      <th>Kristin Hannah</th>\n",
       "      <td>1084336</td>\n",
       "    </tr>\n",
       "    <tr>\n",
       "      <th>John Grisham</th>\n",
       "      <td>1025247</td>\n",
       "    </tr>\n",
       "    <tr>\n",
       "      <th>Thug Kitchen</th>\n",
       "      <td>1023776</td>\n",
       "    </tr>\n",
       "    <tr>\n",
       "      <th>Anthony Doerr</th>\n",
       "      <td>1017744</td>\n",
       "    </tr>\n",
       "    <tr>\n",
       "      <th>Veronica Roth</th>\n",
       "      <td>1001074</td>\n",
       "    </tr>\n",
       "    <tr>\n",
       "      <th>Marie Kondō</th>\n",
       "      <td>996204</td>\n",
       "    </tr>\n",
       "  </tbody>\n",
       "</table>\n",
       "</div>"
      ],
      "text/plain": [
       "                                     Profit\n",
       "Author                                     \n",
       "American Psychological Association  3946800\n",
       "Suzanne Collins                     3368646\n",
       "E L James                           2517303\n",
       "John Green                          2381609\n",
       "Laura Hillenbrand                   2284821\n",
       "Paula Hawkins                       1986150\n",
       "Gillian Flynn                       1660859\n",
       "Gary Chapman                        1516167\n",
       "Dr. Seuss                           1423598\n",
       "American Psychiatric Association    1402590\n",
       "Paulo Coelho                        1396161\n",
       "Wizards RPG Team                    1376190\n",
       "Dale Carnegie                       1375055\n",
       "J.K. Rowling                        1369874\n",
       "Donna Tartt                         1353760\n",
       "Michelle Obama                      1344926\n",
       "Delia Owens                         1317615\n",
       "Mark Manson                         1192050\n",
       "Stephen R. Covey                    1122000\n",
       "Kristin Hannah                      1084336\n",
       "John Grisham                        1025247\n",
       "Thug Kitchen                        1023776\n",
       "Anthony Doerr                       1017744\n",
       "Veronica Roth                       1001074\n",
       "Marie Kondō                          996204"
      ]
     },
     "execution_count": 56,
     "metadata": {},
     "output_type": "execute_result"
    }
   ],
   "source": [
    "profit_author = df.pivot_table(index='Author', \n",
    "                     values='Profit', \n",
    "                     aggfunc='sum').sort_values(by='Profit',\n",
    "                                                ascending=False).head(25)\n",
    "profit_author\n",
    "#mi df agrupado por autor sumando la columna profit, estos valores ordenados de manera descendente\n",
    "#al hacerlo me doy cuenta que son demasiados autores (248 exactamente) así que solo voy a tomar al 10%"
   ]
  },
  {
   "cell_type": "code",
   "execution_count": 57,
   "metadata": {},
   "outputs": [
    {
     "data": {
      "text/plain": [
       "<Axes: xlabel='Author'>"
      ]
     },
     "execution_count": 57,
     "metadata": {},
     "output_type": "execute_result"
    },
    {
     "data": {
      "image/png": "[encoded data removed]",
      "text/plain": [
       "<Figure size 640x480 with 1 Axes>"
      ]
     },
     "metadata": {},
     "output_type": "display_data"
    }
   ],
   "source": [
    "profit_author.plot(kind='bar')"
   ]
  },
  {
   "cell_type": "markdown",
   "metadata": {},
   "source": [
    "¿Que es lo que escriben estos tipos? ¿Cuanto cuestan sus libros?"
   ]
  },
  {
   "cell_type": "code",
   "execution_count": 58,
   "metadata": {},
   "outputs": [
    {
     "data": {
      "text/plain": [
       "Genre\n",
       "Fiction        15\n",
       "Non Fiction    10\n",
       "Name: Genre, dtype: int64"
      ]
     },
     "execution_count": 58,
     "metadata": {},
     "output_type": "execute_result"
    }
   ],
   "source": [
    "ind_pa = profit_author.index #indices\n",
    "df_profit = df[df['Author'].isin(ind_pa)] #el df filtrado de acuerdo a lista de autores con más profit\n",
    "pro_gnere =df_profit.drop_duplicates(subset='Author') #quedamos con valores unicos para estimar genero\n",
    "pro_gnere.groupby('Genre')['Genre'].count() #contamos genero por autor"
   ]
  },
  {
   "cell_type": "markdown",
   "metadata": {},
   "source": [
    "<p> De esos 25 autores, 15 escriben ficción, otra vez la mayoría, y viendo la distribución de los libros que venden, la mayoría se ubican por debajo de los 20 dolares, con dos picos en los 8 y 11 dolares. </p>"
   ]
  },
  {
   "cell_type": "code",
   "execution_count": 59,
   "metadata": {},
   "outputs": [
    {
     "data": {
      "text/plain": [
       "<Axes: xlabel='Price'>"
      ]
     },
     "execution_count": 59,
     "metadata": {},
     "output_type": "execute_result"
    },
    {
     "data": {
      "image/png": "[encoded data removed]",
      "text/plain": [
       "<Figure size 640x480 with 1 Axes>"
      ]
     },
     "metadata": {},
     "output_type": "display_data"
    }
   ],
   "source": [
    "a = df_profit.groupby('Price')['Price'].count()\n",
    "a.plot(kind='bar')"
   ]
  },
  {
   "cell_type": "markdown",
   "metadata": {},
   "source": [
    "<p> Aquí nos damos cuenta que el autor que antes habiamos estimado con más BS ni siquiera aparece en los primeros 25 puestos de los que más ganaron según el criterio aplicado, sin embargo esto no es del todo concluyente pues tengo mi data sesgada, es decir, no tengo en ella la cantidad de libros vendidos por cada uno. Pero el ejercicio estuvo interesante. <p>"
   ]
  },
  {
   "cell_type": "markdown",
   "metadata": {},
   "source": [
    "<h3> ¿Que hay de los lectores </h3>"
   ]
  },
  {
   "cell_type": "markdown",
   "metadata": {},
   "source": [
    "Bajo la misma **hipotesis**, pensariamos que cada año los lectores van aumentado. ¿Cual es la distribución de los reviews por año? "
   ]
  },
  {
   "cell_type": "code",
   "execution_count": 60,
   "metadata": {},
   "outputs": [
    {
     "data": {
      "text/plain": [
       "<Axes: xlabel='Year'>"
      ]
     },
     "execution_count": 60,
     "metadata": {},
     "output_type": "execute_result"
    },
    {
     "data": {
      "image/png": "[encoded data removed]",
      "text/plain": [
       "<Figure size 640x480 with 1 Axes>"
      ]
     },
     "metadata": {},
     "output_type": "display_data"
    }
   ],
   "source": [
    "readers = df.groupby('Year')['Reviews'].sum()\n",
    "readers.plot()"
   ]
  },
  {
   "cell_type": "markdown",
   "metadata": {},
   "source": [
    "Pues si, se ve una tendencia positiva en la cantidad de lectores por año en la decada."
   ]
  },
  {
   "cell_type": "markdown",
   "metadata": {},
   "source": [
    "<h3> Entonces, ¿cuales fueron los libros más vendidos por año ?</h3>"
   ]
  },
  {
   "cell_type": "markdown",
   "metadata": {},
   "source": [
    "Continuando con nuestra hipotesis, entonces para saber cuales fueron los libros más vendidos por año solo debería filtrar mi data y seleccionar mis valores más altos agrupados por año. Suena sencillo, pero veamos:"
   ]
  },
  {
   "cell_type": "code",
   "execution_count": 61,
   "metadata": {},
   "outputs": [
    {
     "data": {
      "text/html": [
       "<div>\n",
       "<style scoped>\n",
       "    .dataframe tbody tr th:only-of-type {\n",
       "        vertical-align: middle;\n",
       "    }\n",
       "\n",
       "    .dataframe tbody tr th {\n",
       "        vertical-align: top;\n",
       "    }\n",
       "\n",
       "    .dataframe thead th {\n",
       "        text-align: right;\n",
       "    }\n",
       "</style>\n",
       "<table border=\"1\" class=\"dataframe\">\n",
       "  <thead>\n",
       "    <tr style=\"text-align: right;\">\n",
       "      <th></th>\n",
       "      <th>Name</th>\n",
       "      <th>Author</th>\n",
       "      <th>User Rating</th>\n",
       "      <th>Reviews</th>\n",
       "      <th>Price</th>\n",
       "      <th>Year</th>\n",
       "      <th>Genre</th>\n",
       "      <th>Profit</th>\n",
       "    </tr>\n",
       "  </thead>\n",
       "  <tbody>\n",
       "    <tr>\n",
       "      <th>459</th>\n",
       "      <td>The Shack: Where Tragedy Confronts Eternity</td>\n",
       "      <td>William P. Young</td>\n",
       "      <td>4.6</td>\n",
       "      <td>19720</td>\n",
       "      <td>8</td>\n",
       "      <td>2009</td>\n",
       "      <td>Fiction</td>\n",
       "      <td>157760</td>\n",
       "    </tr>\n",
       "    <tr>\n",
       "      <th>407</th>\n",
       "      <td>The Hunger Games</td>\n",
       "      <td>Suzanne Collins</td>\n",
       "      <td>4.7</td>\n",
       "      <td>32122</td>\n",
       "      <td>14</td>\n",
       "      <td>2010</td>\n",
       "      <td>Fiction</td>\n",
       "      <td>449708</td>\n",
       "    </tr>\n",
       "    <tr>\n",
       "      <th>408</th>\n",
       "      <td>The Hunger Games (Book 1)</td>\n",
       "      <td>Suzanne Collins</td>\n",
       "      <td>4.7</td>\n",
       "      <td>32122</td>\n",
       "      <td>8</td>\n",
       "      <td>2011</td>\n",
       "      <td>Fiction</td>\n",
       "      <td>256976</td>\n",
       "    </tr>\n",
       "    <tr>\n",
       "      <th>135</th>\n",
       "      <td>Gone Girl</td>\n",
       "      <td>Gillian Flynn</td>\n",
       "      <td>4.0</td>\n",
       "      <td>57271</td>\n",
       "      <td>10</td>\n",
       "      <td>2012</td>\n",
       "      <td>Fiction</td>\n",
       "      <td>572710</td>\n",
       "    </tr>\n",
       "    <tr>\n",
       "      <th>136</th>\n",
       "      <td>Gone Girl</td>\n",
       "      <td>Gillian Flynn</td>\n",
       "      <td>4.0</td>\n",
       "      <td>57271</td>\n",
       "      <td>10</td>\n",
       "      <td>2013</td>\n",
       "      <td>Fiction</td>\n",
       "      <td>572710</td>\n",
       "    </tr>\n",
       "    <tr>\n",
       "      <th>137</th>\n",
       "      <td>Gone Girl</td>\n",
       "      <td>Gillian Flynn</td>\n",
       "      <td>4.0</td>\n",
       "      <td>57271</td>\n",
       "      <td>9</td>\n",
       "      <td>2014</td>\n",
       "      <td>Fiction</td>\n",
       "      <td>515439</td>\n",
       "    </tr>\n",
       "    <tr>\n",
       "      <th>382</th>\n",
       "      <td>The Girl on the Train</td>\n",
       "      <td>Paula Hawkins</td>\n",
       "      <td>4.1</td>\n",
       "      <td>79446</td>\n",
       "      <td>18</td>\n",
       "      <td>2015</td>\n",
       "      <td>Fiction</td>\n",
       "      <td>1430028</td>\n",
       "    </tr>\n",
       "    <tr>\n",
       "      <th>383</th>\n",
       "      <td>The Girl on the Train</td>\n",
       "      <td>Paula Hawkins</td>\n",
       "      <td>4.1</td>\n",
       "      <td>79446</td>\n",
       "      <td>7</td>\n",
       "      <td>2016</td>\n",
       "      <td>Fiction</td>\n",
       "      <td>556122</td>\n",
       "    </tr>\n",
       "    <tr>\n",
       "      <th>399</th>\n",
       "      <td>The Handmaid's Tale</td>\n",
       "      <td>Margaret Atwood</td>\n",
       "      <td>4.3</td>\n",
       "      <td>29442</td>\n",
       "      <td>7</td>\n",
       "      <td>2017</td>\n",
       "      <td>Fiction</td>\n",
       "      <td>206094</td>\n",
       "    </tr>\n",
       "    <tr>\n",
       "      <th>32</th>\n",
       "      <td>Becoming</td>\n",
       "      <td>Michelle Obama</td>\n",
       "      <td>4.8</td>\n",
       "      <td>61133</td>\n",
       "      <td>11</td>\n",
       "      <td>2018</td>\n",
       "      <td>Non Fiction</td>\n",
       "      <td>672463</td>\n",
       "    </tr>\n",
       "    <tr>\n",
       "      <th>534</th>\n",
       "      <td>Where the Crawdads Sing</td>\n",
       "      <td>Delia Owens</td>\n",
       "      <td>4.8</td>\n",
       "      <td>87841</td>\n",
       "      <td>15</td>\n",
       "      <td>2019</td>\n",
       "      <td>Fiction</td>\n",
       "      <td>1317615</td>\n",
       "    </tr>\n",
       "  </tbody>\n",
       "</table>\n",
       "</div>"
      ],
      "text/plain": [
       "                                            Name            Author  \\\n",
       "459  The Shack: Where Tragedy Confronts Eternity  William P. Young   \n",
       "407                             The Hunger Games   Suzanne Collins   \n",
       "408                    The Hunger Games (Book 1)   Suzanne Collins   \n",
       "135                                    Gone Girl     Gillian Flynn   \n",
       "136                                    Gone Girl     Gillian Flynn   \n",
       "137                                    Gone Girl     Gillian Flynn   \n",
       "382                        The Girl on the Train     Paula Hawkins   \n",
       "383                        The Girl on the Train     Paula Hawkins   \n",
       "399                          The Handmaid's Tale   Margaret Atwood   \n",
       "32                                      Becoming    Michelle Obama   \n",
       "534                      Where the Crawdads Sing       Delia Owens   \n",
       "\n",
       "     User Rating  Reviews  Price  Year        Genre   Profit  \n",
       "459          4.6    19720      8  2009      Fiction   157760  \n",
       "407          4.7    32122     14  2010      Fiction   449708  \n",
       "408          4.7    32122      8  2011      Fiction   256976  \n",
       "135          4.0    57271     10  2012      Fiction   572710  \n",
       "136          4.0    57271     10  2013      Fiction   572710  \n",
       "137          4.0    57271      9  2014      Fiction   515439  \n",
       "382          4.1    79446     18  2015      Fiction  1430028  \n",
       "383          4.1    79446      7  2016      Fiction   556122  \n",
       "399          4.3    29442      7  2017      Fiction   206094  \n",
       "32           4.8    61133     11  2018  Non Fiction   672463  \n",
       "534          4.8    87841     15  2019      Fiction  1317615  "
      ]
     },
     "execution_count": 61,
     "metadata": {},
     "output_type": "execute_result"
    }
   ],
   "source": [
    "df.loc[df.groupby('Year')['Reviews'].idxmax()]\n",
    "#filtrado con metodo .loc cuyo parametro son los indices de los Reviews mas altos agrupados por año"
   ]
  },
  {
   "cell_type": "markdown",
   "metadata": {},
   "source": [
    "Y aquí nuevamente tenemos que en teoría los libros más vendidos fueron de ficción jaja, que estos no superan los 20 $. Bastante interesante"
   ]
  },
  {
   "cell_type": "markdown",
   "metadata": {},
   "source": [
    "<h3> Conclusiones:  </h3>\n",
    "<ul>\n",
    "<li> De de manera general, la ficción no supera a la relidad (jaja), pues si hay preferencia por los libros de 'non fiction'. Aunque hay una distribución equitativa entre los 10 autores más vendidos. </li>\n",
    "<li> Los libros de ficción han estado en todos los años por debajo de los libros de no ficción. </li>\n",
    "        \n",
    "<li> El precio promedio de los libros de ficción siempre ha estado por debajo del precio promedio de lo que no pertenecen a este genero. </li>\n",
    "\n",
    "<li>Podemos pensar que el precio de los libros influye en la cantidad de lectores, pues finalmente la compra de estos es lo que los hace Best Sellers, evidenciando que los libros de menos de 20 dolares son los que mayor acogida tienen </li>\n",
    "<li>\n",
    "Sin embargo no necesariamente los más baratos son los que más ganancia dejan, aunque claro, no se puede asegurar dado que tengo mi data sesgada. \n",
    "</li>\n",
    "<li> Vemos una tendencia positiva en la cantidad de lectores por año, bajo la hipotesis de que cada review corresponde a un lector. </li>\n",
    "<li> Continuando con nuestra hipotesis, podriamos estimar cuales fueron los libros más vendidos por año, obteniendo la sorpresa de que estos corresponden en su gran mayoría a libros de ficción</li>\n",
    "</ul>"
   ]
  }
 ],
 "metadata": {
  "kernelspec": {
   "display_name": "data_analytics",
   "language": "python",
   "name": "python3"
  },
  "language_info": {
   "codemirror_mode": {
    "name": "ipython",
    "version": 3
   },
   "file_extension": ".py",
   "mimetype": "text/x-python",
   "name": "python",
   "nbconvert_exporter": "python",
   "pygments_lexer": "ipython3",
   "version": "3.11.5"
  }
 },
 "nbformat": 4,
 "nbformat_minor": 2
}
